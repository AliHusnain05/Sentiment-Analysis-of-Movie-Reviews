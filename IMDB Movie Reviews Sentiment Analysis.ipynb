{
 "cells": [
  {
   "cell_type": "markdown",
   "id": "a18d93fb-5a09-4e60-9498-ed85d3a2513a",
   "metadata": {},
   "source": [
    "# ===== Step 1: Import Libraries ====="
   ]
  },
  {
   "cell_type": "code",
   "execution_count": 1,
   "id": "cb82dee2-e832-4a9c-8ed9-5f19fd1ecdf0",
   "metadata": {},
   "outputs": [
    {
     "name": "stdout",
     "output_type": "stream",
     "text": [
      "✅ Libraries imported successfully\n"
     ]
    },
    {
     "name": "stderr",
     "output_type": "stream",
     "text": [
      "[nltk_data] Downloading package stopwords to\n",
      "[nltk_data]     C:\\Users\\DELL\\AppData\\Roaming\\nltk_data...\n",
      "[nltk_data]   Package stopwords is already up-to-date!\n",
      "[nltk_data] Downloading package punkt to\n",
      "[nltk_data]     C:\\Users\\DELL\\AppData\\Roaming\\nltk_data...\n",
      "[nltk_data]   Package punkt is already up-to-date!\n",
      "[nltk_data] Downloading package wordnet to\n",
      "[nltk_data]     C:\\Users\\DELL\\AppData\\Roaming\\nltk_data...\n",
      "[nltk_data]   Package wordnet is already up-to-date!\n"
     ]
    }
   ],
   "source": [
    "# Data handling\n",
    "import pandas as pd\n",
    "import numpy as np\n",
    "\n",
    "# Visualization\n",
    "import matplotlib.pyplot as plt\n",
    "import seaborn as sns\n",
    "\n",
    "# Machine Learning (Scikit-learn)\n",
    "from sklearn.model_selection import train_test_split\n",
    "from sklearn.feature_extraction.text import CountVectorizer, TfidfVectorizer\n",
    "from sklearn.naive_bayes import MultinomialNB\n",
    "from sklearn.linear_model import LogisticRegression\n",
    "from sklearn.svm import LinearSVC\n",
    "from sklearn.metrics import (\n",
    "    accuracy_score,\n",
    "    classification_report,\n",
    "    confusion_matrix,\n",
    "    precision_score,\n",
    "    recall_score,\n",
    "    f1_score\n",
    ")\n",
    "\n",
    "# NLP (Natural Language Processing) with NLTK\n",
    "import nltk\n",
    "from nltk.corpus import stopwords\n",
    "from nltk.stem import PorterStemmer, WordNetLemmatizer\n",
    "from nltk.tokenize import word_tokenize\n",
    "\n",
    "# Ensure NLTK resources are available (downloads if not already)\n",
    "nltk.download('stopwords')\n",
    "nltk.download('punkt')\n",
    "nltk.download('wordnet')\n",
    "\n",
    "print(\"✅ Libraries imported successfully\")"
   ]
  },
  {
   "cell_type": "code",
   "execution_count": 34,
   "id": "7a8fa17b-17f8-43ab-a8cb-23bb707612ad",
   "metadata": {},
   "outputs": [
    {
     "name": "stdout",
     "output_type": "stream",
     "text": [
      "✅ Libraries imported successfully\n"
     ]
    },
    {
     "name": "stderr",
     "output_type": "stream",
     "text": [
      "[nltk_data] Downloading package stopwords to\n",
      "[nltk_data]     C:\\Users\\DELL\\AppData\\Roaming\\nltk_data...\n",
      "[nltk_data]   Package stopwords is already up-to-date!\n",
      "[nltk_data] Downloading package punkt to\n",
      "[nltk_data]     C:\\Users\\DELL\\AppData\\Roaming\\nltk_data...\n",
      "[nltk_data]   Package punkt is already up-to-date!\n",
      "[nltk_data] Downloading package wordnet to\n",
      "[nltk_data]     C:\\Users\\DELL\\AppData\\Roaming\\nltk_data...\n",
      "[nltk_data]   Package wordnet is already up-to-date!\n"
     ]
    }
   ],
   "source": [
    "# Data handling\n",
    "import pandas as pd\n",
    "import numpy as np\n",
    "\n",
    "# Visualization\n",
    "import matplotlib.pyplot as plt\n",
    "import seaborn as sns\n",
    "\n",
    "# Machine Learning (Scikit-learn)\n",
    "from sklearn.model_selection import train_test_split\n",
    "from sklearn.feature_extraction.text import CountVectorizer, TfidfVectorizer\n",
    "from sklearn.naive_bayes import MultinomialNB\n",
    "from sklearn.linear_model import LogisticRegression\n",
    "from sklearn.svm import LinearSVC\n",
    "from sklearn.metrics import (\n",
    "    accuracy_score,\n",
    "    classification_report,\n",
    "    confusion_matrix,\n",
    "    precision_score,\n",
    "    recall_score,\n",
    "    f1_score\n",
    ")\n",
    "from sklearn.metrics import roc_curve, auc, precision_recall_curve, average_precision_score\n",
    "\n",
    "# NLP (Natural Language Processing) with NLTK\n",
    "import nltk\n",
    "import re  \n",
    "from nltk.corpus import stopwords\n",
    "from nltk.stem import PorterStemmer, WordNetLemmatizer\n",
    "from nltk.tokenize import word_tokenize\n",
    "\n",
    "# Ensure NLTK resources are available (downloads if not already)\n",
    "nltk.download('stopwords')\n",
    "nltk.download('punkt')\n",
    "nltk.download('wordnet')\n",
    "\n",
    "print(\"✅ Libraries imported successfully\")"
   ]
  },
  {
   "cell_type": "markdown",
   "id": "0f279fe3-467b-48b4-9873-8b91ee34053f",
   "metadata": {},
   "source": [
    "# ===== Step 2: Load Data and Basic Steps ====="
   ]
  },
  {
   "cell_type": "code",
   "execution_count": 2,
   "id": "748ee3f1-068e-40ba-9ec0-c228127b268f",
   "metadata": {},
   "outputs": [],
   "source": [
    "df=pd.read_csv(\"IMDB Dataset.csv\")"
   ]
  },
  {
   "cell_type": "code",
   "execution_count": 3,
   "id": "0318702d-8d20-46c7-a2d2-76ef6ac94253",
   "metadata": {},
   "outputs": [
    {
     "data": {
      "text/html": [
       "<div>\n",
       "<style scoped>\n",
       "    .dataframe tbody tr th:only-of-type {\n",
       "        vertical-align: middle;\n",
       "    }\n",
       "\n",
       "    .dataframe tbody tr th {\n",
       "        vertical-align: top;\n",
       "    }\n",
       "\n",
       "    .dataframe thead th {\n",
       "        text-align: right;\n",
       "    }\n",
       "</style>\n",
       "<table border=\"1\" class=\"dataframe\">\n",
       "  <thead>\n",
       "    <tr style=\"text-align: right;\">\n",
       "      <th></th>\n",
       "      <th>review</th>\n",
       "      <th>sentiment</th>\n",
       "    </tr>\n",
       "  </thead>\n",
       "  <tbody>\n",
       "    <tr>\n",
       "      <th>0</th>\n",
       "      <td>One of the other reviewers has mentioned that ...</td>\n",
       "      <td>positive</td>\n",
       "    </tr>\n",
       "    <tr>\n",
       "      <th>1</th>\n",
       "      <td>A wonderful little production. &lt;br /&gt;&lt;br /&gt;The...</td>\n",
       "      <td>positive</td>\n",
       "    </tr>\n",
       "    <tr>\n",
       "      <th>2</th>\n",
       "      <td>I thought this was a wonderful way to spend ti...</td>\n",
       "      <td>positive</td>\n",
       "    </tr>\n",
       "    <tr>\n",
       "      <th>3</th>\n",
       "      <td>Basically there's a family where a little boy ...</td>\n",
       "      <td>negative</td>\n",
       "    </tr>\n",
       "    <tr>\n",
       "      <th>4</th>\n",
       "      <td>Petter Mattei's \"Love in the Time of Money\" is...</td>\n",
       "      <td>positive</td>\n",
       "    </tr>\n",
       "  </tbody>\n",
       "</table>\n",
       "</div>"
      ],
      "text/plain": [
       "                                              review sentiment\n",
       "0  One of the other reviewers has mentioned that ...  positive\n",
       "1  A wonderful little production. <br /><br />The...  positive\n",
       "2  I thought this was a wonderful way to spend ti...  positive\n",
       "3  Basically there's a family where a little boy ...  negative\n",
       "4  Petter Mattei's \"Love in the Time of Money\" is...  positive"
      ]
     },
     "execution_count": 3,
     "metadata": {},
     "output_type": "execute_result"
    }
   ],
   "source": [
    "df.head()"
   ]
  },
  {
   "cell_type": "code",
   "execution_count": 4,
   "id": "6f1196c4-85a0-41e3-aeb4-0bad24f69c6b",
   "metadata": {},
   "outputs": [
    {
     "data": {
      "text/html": [
       "<div>\n",
       "<style scoped>\n",
       "    .dataframe tbody tr th:only-of-type {\n",
       "        vertical-align: middle;\n",
       "    }\n",
       "\n",
       "    .dataframe tbody tr th {\n",
       "        vertical-align: top;\n",
       "    }\n",
       "\n",
       "    .dataframe thead th {\n",
       "        text-align: right;\n",
       "    }\n",
       "</style>\n",
       "<table border=\"1\" class=\"dataframe\">\n",
       "  <thead>\n",
       "    <tr style=\"text-align: right;\">\n",
       "      <th></th>\n",
       "      <th>review</th>\n",
       "      <th>sentiment</th>\n",
       "    </tr>\n",
       "  </thead>\n",
       "  <tbody>\n",
       "    <tr>\n",
       "      <th>49995</th>\n",
       "      <td>I thought this movie did a down right good job...</td>\n",
       "      <td>positive</td>\n",
       "    </tr>\n",
       "    <tr>\n",
       "      <th>49996</th>\n",
       "      <td>Bad plot, bad dialogue, bad acting, idiotic di...</td>\n",
       "      <td>negative</td>\n",
       "    </tr>\n",
       "    <tr>\n",
       "      <th>49997</th>\n",
       "      <td>I am a Catholic taught in parochial elementary...</td>\n",
       "      <td>negative</td>\n",
       "    </tr>\n",
       "    <tr>\n",
       "      <th>49998</th>\n",
       "      <td>I'm going to have to disagree with the previou...</td>\n",
       "      <td>negative</td>\n",
       "    </tr>\n",
       "    <tr>\n",
       "      <th>49999</th>\n",
       "      <td>No one expects the Star Trek movies to be high...</td>\n",
       "      <td>negative</td>\n",
       "    </tr>\n",
       "  </tbody>\n",
       "</table>\n",
       "</div>"
      ],
      "text/plain": [
       "                                                  review sentiment\n",
       "49995  I thought this movie did a down right good job...  positive\n",
       "49996  Bad plot, bad dialogue, bad acting, idiotic di...  negative\n",
       "49997  I am a Catholic taught in parochial elementary...  negative\n",
       "49998  I'm going to have to disagree with the previou...  negative\n",
       "49999  No one expects the Star Trek movies to be high...  negative"
      ]
     },
     "execution_count": 4,
     "metadata": {},
     "output_type": "execute_result"
    }
   ],
   "source": [
    "df.tail()"
   ]
  },
  {
   "cell_type": "code",
   "execution_count": 5,
   "id": "fd4f26fa-654c-44d0-bb1f-91390fb003ba",
   "metadata": {},
   "outputs": [
    {
     "name": "stdout",
     "output_type": "stream",
     "text": [
      "<class 'pandas.core.frame.DataFrame'>\n",
      "RangeIndex: 50000 entries, 0 to 49999\n",
      "Data columns (total 2 columns):\n",
      " #   Column     Non-Null Count  Dtype \n",
      "---  ------     --------------  ----- \n",
      " 0   review     50000 non-null  object\n",
      " 1   sentiment  50000 non-null  object\n",
      "dtypes: object(2)\n",
      "memory usage: 781.4+ KB\n"
     ]
    }
   ],
   "source": [
    "df.info()"
   ]
  },
  {
   "cell_type": "code",
   "execution_count": 6,
   "id": "74272f56-84b8-4bf1-96e6-96713dbdc91c",
   "metadata": {},
   "outputs": [
    {
     "data": {
      "text/html": [
       "<div>\n",
       "<style scoped>\n",
       "    .dataframe tbody tr th:only-of-type {\n",
       "        vertical-align: middle;\n",
       "    }\n",
       "\n",
       "    .dataframe tbody tr th {\n",
       "        vertical-align: top;\n",
       "    }\n",
       "\n",
       "    .dataframe thead th {\n",
       "        text-align: right;\n",
       "    }\n",
       "</style>\n",
       "<table border=\"1\" class=\"dataframe\">\n",
       "  <thead>\n",
       "    <tr style=\"text-align: right;\">\n",
       "      <th></th>\n",
       "      <th>review</th>\n",
       "      <th>sentiment</th>\n",
       "    </tr>\n",
       "  </thead>\n",
       "  <tbody>\n",
       "    <tr>\n",
       "      <th>count</th>\n",
       "      <td>50000</td>\n",
       "      <td>50000</td>\n",
       "    </tr>\n",
       "    <tr>\n",
       "      <th>unique</th>\n",
       "      <td>49582</td>\n",
       "      <td>2</td>\n",
       "    </tr>\n",
       "    <tr>\n",
       "      <th>top</th>\n",
       "      <td>Loved today's show!!! It was a variety and not...</td>\n",
       "      <td>positive</td>\n",
       "    </tr>\n",
       "    <tr>\n",
       "      <th>freq</th>\n",
       "      <td>5</td>\n",
       "      <td>25000</td>\n",
       "    </tr>\n",
       "  </tbody>\n",
       "</table>\n",
       "</div>"
      ],
      "text/plain": [
       "                                                   review sentiment\n",
       "count                                               50000     50000\n",
       "unique                                              49582         2\n",
       "top     Loved today's show!!! It was a variety and not...  positive\n",
       "freq                                                    5     25000"
      ]
     },
     "execution_count": 6,
     "metadata": {},
     "output_type": "execute_result"
    }
   ],
   "source": [
    "df.describe()"
   ]
  },
  {
   "cell_type": "code",
   "execution_count": 7,
   "id": "c120e96c-f184-4d3a-8f07-7d47b3f0422c",
   "metadata": {},
   "outputs": [
    {
     "data": {
      "text/plain": [
       "(50000, 2)"
      ]
     },
     "execution_count": 7,
     "metadata": {},
     "output_type": "execute_result"
    }
   ],
   "source": [
    "df.shape"
   ]
  },
  {
   "cell_type": "code",
   "execution_count": 8,
   "id": "81fe4e96-cba8-4394-a4fb-50b9490df9f5",
   "metadata": {},
   "outputs": [
    {
     "data": {
      "text/plain": [
       "Index(['review', 'sentiment'], dtype='object')"
      ]
     },
     "execution_count": 8,
     "metadata": {},
     "output_type": "execute_result"
    }
   ],
   "source": [
    "df.columns"
   ]
  },
  {
   "cell_type": "code",
   "execution_count": 9,
   "id": "e8f762b7-400c-433e-9328-0ae121ccc9cf",
   "metadata": {},
   "outputs": [
    {
     "data": {
      "text/plain": [
       "review       object\n",
       "sentiment    object\n",
       "dtype: object"
      ]
     },
     "execution_count": 9,
     "metadata": {},
     "output_type": "execute_result"
    }
   ],
   "source": [
    "df.dtypes"
   ]
  },
  {
   "cell_type": "markdown",
   "id": "d290a971-bcf3-4c7c-ac0e-3323df152000",
   "metadata": {},
   "source": [
    "# ===== Step 3: Checking Missing Values ====="
   ]
  },
  {
   "cell_type": "code",
   "execution_count": 10,
   "id": "9948cefa-ddb8-4571-ab38-f9672e2ccc1e",
   "metadata": {},
   "outputs": [
    {
     "data": {
      "text/plain": [
       "0"
      ]
     },
     "execution_count": 10,
     "metadata": {},
     "output_type": "execute_result"
    }
   ],
   "source": [
    "df.isnull().sum().sum()"
   ]
  },
  {
   "cell_type": "code",
   "execution_count": 11,
   "id": "3fb2105e-8d2c-4a68-82ce-1183fb430382",
   "metadata": {},
   "outputs": [
    {
     "data": {
      "text/plain": [
       "418"
      ]
     },
     "execution_count": 11,
     "metadata": {},
     "output_type": "execute_result"
    }
   ],
   "source": [
    "df.duplicated().sum()"
   ]
  },
  {
   "cell_type": "code",
   "execution_count": 12,
   "id": "7617415e-1a32-4599-b7b5-81ade30ed707",
   "metadata": {},
   "outputs": [
    {
     "name": "stdout",
     "output_type": "stream",
     "text": [
      "review       0\n",
      "sentiment    0\n",
      "dtype: int64\n"
     ]
    }
   ],
   "source": [
    "df.drop_duplicates(inplace=True)\n",
    "\n",
    "# Check missing values\n",
    "print(df.isnull().sum())"
   ]
  },
  {
   "cell_type": "code",
   "execution_count": 13,
   "id": "0efdf152-bc0b-4fd8-9b9b-e7e3eac040a6",
   "metadata": {},
   "outputs": [
    {
     "name": "stderr",
     "output_type": "stream",
     "text": [
      "C:\\Users\\DELL\\AppData\\Local\\Temp\\ipykernel_3156\\3802834965.py:3: FutureWarning: \n",
      "\n",
      "Passing `palette` without assigning `hue` is deprecated and will be removed in v0.14.0. Assign the `x` variable to `hue` and set `legend=False` for the same effect.\n",
      "\n",
      "  sns.countplot(data=df, x=\"sentiment\", palette=\"viridis\")\n"
     ]
    },
    {
     "data": {
      "image/png": "[encoded data removed]",
      "text/plain": [
       "<Figure size 600x400 with 1 Axes>"
      ]
     },
     "metadata": {},
     "output_type": "display_data"
    }
   ],
   "source": [
    "# Sentiment distribution\n",
    "plt.figure(figsize=(6,4))\n",
    "sns.countplot(data=df, x=\"sentiment\", palette=\"viridis\")\n",
    "plt.title(\"Sentiment Distribution\")\n",
    "plt.show()"
   ]
  },
  {
   "cell_type": "code",
   "execution_count": 14,
   "id": "35960041-2f5f-4af2-8692-d9afeaef6fbe",
   "metadata": {},
   "outputs": [
    {
     "data": {
      "image/png": "[encoded data removed]",
      "text/plain": [
       "<Figure size 640x480 with 1 Axes>"
      ]
     },
     "metadata": {},
     "output_type": "display_data"
    }
   ],
   "source": [
    "# Pie chart\n",
    "df[\"sentiment\"].value_counts().plot.pie(autopct=\"%1.1f%%\", colors=[\"#2ecc71\",\"#e74c3c\"], explode=[0.05,0.05])\n",
    "plt.title(\"Sentiment Proportion\")\n",
    "plt.ylabel(\"\")\n",
    "plt.show()"
   ]
  },
  {
   "cell_type": "markdown",
   "id": "ba8fe5a2-511d-4dc6-a522-082fd155f478",
   "metadata": {},
   "source": [
    "# ===== Step 4: Data Preprocessing ====="
   ]
  },
  {
   "cell_type": "code",
   "execution_count": 15,
   "id": "24edc379-be75-46ef-868c-14cab15f56ac",
   "metadata": {},
   "outputs": [],
   "source": [
    "# # Encode target (positive -> 1, negative -> 0)\n",
    "# df[\"sentiment\"] = df[\"sentiment\"].map({\"positive\":1, \"negative\":0})"
   ]
  },
  {
   "cell_type": "code",
   "execution_count": 16,
   "id": "47ad60b4-7b63-4548-bf92-e80106c2da73",
   "metadata": {},
   "outputs": [],
   "source": [
    "# # Text cleaning function\n",
    "# def clean_text(text):\n",
    "#     # Remove punctuation & special characters\n",
    "#     text = re.sub(r\"[^a-zA-Z\\s]\", \"\", text)\n",
    "#     # Convert to lowercase\n",
    "#     text = text.lower()\n",
    "#     # Remove stopwords\n",
    "#     tokens = [word for word in text.split() if word not in stop_words]\n",
    "#     return \" \".join(tokens)"
   ]
  },
  {
   "cell_type": "code",
   "execution_count": 17,
   "id": "1e045f1b-caaa-4ee1-91ce-b117761d0244",
   "metadata": {},
   "outputs": [],
   "source": [
    "# ===== Step 4: Data Preprocessing =====\n",
    "import re   \n",
    "import pandas as pd\n",
    "import nltk\n",
    "from nltk.corpus import stopwords\n",
    "text_col = 'review'\n",
    "label_col = 'sentiment'"
   ]
  },
  {
   "cell_type": "code",
   "execution_count": 18,
   "id": "1b880013-840a-48ff-a9bb-69afdc889be1",
   "metadata": {},
   "outputs": [
    {
     "data": {
      "text/plain": [
       "(49582, 2)"
      ]
     },
     "execution_count": 18,
     "metadata": {},
     "output_type": "execute_result"
    }
   ],
   "source": [
    "df.shape"
   ]
  },
  {
   "cell_type": "code",
   "execution_count": 19,
   "id": "b53707eb-3803-489e-b224-e3e342cd46d7",
   "metadata": {},
   "outputs": [
    {
     "name": "stdout",
     "output_type": "stream",
     "text": [
      "Encoded labels. Dropped 0 rows with unknown labels.\n"
     ]
    }
   ],
   "source": [
    "# 4.1 — Encode target: positive→1, negative→0\n",
    "df = df.copy()\n",
    "df[label_col] = (\n",
    "    df[label_col]\n",
    "    .astype(str).str.strip().str.lower()\n",
    "    .map({'positive': 1, 'negative': 0})\n",
    ")\n",
    "before = df.shape[0]\n",
    "df = df.dropna(subset=[label_col])\n",
    "after = df.shape[0]\n",
    "print(f\"Encoded labels. Dropped {before - after} rows with unknown labels.\")\n"
   ]
  },
  {
   "cell_type": "code",
   "execution_count": 20,
   "id": "a7d5cb3e-c5c2-4869-b810-8711761417e1",
   "metadata": {},
   "outputs": [
    {
     "data": {
      "text/plain": [
       "(49582, 2)"
      ]
     },
     "execution_count": 20,
     "metadata": {},
     "output_type": "execute_result"
    }
   ],
   "source": [
    "df.shape"
   ]
  },
  {
   "cell_type": "code",
   "execution_count": 21,
   "id": "685aa734-e819-4d02-9ba2-0250ebfd07ad",
   "metadata": {},
   "outputs": [
    {
     "data": {
      "text/html": [
       "<div>\n",
       "<style scoped>\n",
       "    .dataframe tbody tr th:only-of-type {\n",
       "        vertical-align: middle;\n",
       "    }\n",
       "\n",
       "    .dataframe tbody tr th {\n",
       "        vertical-align: top;\n",
       "    }\n",
       "\n",
       "    .dataframe thead th {\n",
       "        text-align: right;\n",
       "    }\n",
       "</style>\n",
       "<table border=\"1\" class=\"dataframe\">\n",
       "  <thead>\n",
       "    <tr style=\"text-align: right;\">\n",
       "      <th></th>\n",
       "      <th>review</th>\n",
       "      <th>sentiment</th>\n",
       "    </tr>\n",
       "  </thead>\n",
       "  <tbody>\n",
       "    <tr>\n",
       "      <th>0</th>\n",
       "      <td>One of the other reviewers has mentioned that ...</td>\n",
       "      <td>1</td>\n",
       "    </tr>\n",
       "    <tr>\n",
       "      <th>1</th>\n",
       "      <td>A wonderful little production. &lt;br /&gt;&lt;br /&gt;The...</td>\n",
       "      <td>1</td>\n",
       "    </tr>\n",
       "    <tr>\n",
       "      <th>2</th>\n",
       "      <td>I thought this was a wonderful way to spend ti...</td>\n",
       "      <td>1</td>\n",
       "    </tr>\n",
       "    <tr>\n",
       "      <th>3</th>\n",
       "      <td>Basically there's a family where a little boy ...</td>\n",
       "      <td>0</td>\n",
       "    </tr>\n",
       "    <tr>\n",
       "      <th>4</th>\n",
       "      <td>Petter Mattei's \"Love in the Time of Money\" is...</td>\n",
       "      <td>1</td>\n",
       "    </tr>\n",
       "  </tbody>\n",
       "</table>\n",
       "</div>"
      ],
      "text/plain": [
       "                                              review  sentiment\n",
       "0  One of the other reviewers has mentioned that ...          1\n",
       "1  A wonderful little production. <br /><br />The...          1\n",
       "2  I thought this was a wonderful way to spend ti...          1\n",
       "3  Basically there's a family where a little boy ...          0\n",
       "4  Petter Mattei's \"Love in the Time of Money\" is...          1"
      ]
     },
     "execution_count": 21,
     "metadata": {},
     "output_type": "execute_result"
    }
   ],
   "source": [
    "df.head()"
   ]
  },
  {
   "cell_type": "code",
   "execution_count": 22,
   "id": "8d01846c-dab2-4480-b90a-57023fe79642",
   "metadata": {},
   "outputs": [],
   "source": [
    "# 4.2 — Set up NLTK stopwords\n",
    "try:\n",
    "    stop_words = set(stopwords.words('english'))\n",
    "except LookupError:\n",
    "    nltk.download('stopwords', quiet=True)\n",
    "    stop_words = set(stopwords.words('english'))"
   ]
  },
  {
   "cell_type": "code",
   "execution_count": 23,
   "id": "33074154-3190-47d4-9e97-13458c383518",
   "metadata": {},
   "outputs": [],
   "source": [
    "# 4.3 — Preprocessing function\n",
    "def preprocess_text(text: str) -> str:\n",
    "    text = str(text).lower()                               # lowercase\n",
    "    text = re.sub(r'[^a-z\\s]', ' ', text)                  # keep only letters + spaces\n",
    "    text = re.sub(r'\\s+', ' ', text).strip()               # collapse spaces\n",
    "    words = [w for w in text.split() if w not in stop_words]  # remove stopwords\n",
    "    return \" \".join(words)"
   ]
  },
  {
   "cell_type": "code",
   "execution_count": 24,
   "id": "ab89314d-0b23-48b9-8a02-93dfcae49672",
   "metadata": {},
   "outputs": [],
   "source": [
    "# 4.4 — Apply preprocessing\n",
    "df['cleaned_review'] = df[text_col].apply(preprocess_text)"
   ]
  },
  {
   "cell_type": "code",
   "execution_count": 25,
   "id": "d2667509-6243-4784-a38d-65a93fab9d13",
   "metadata": {},
   "outputs": [
    {
     "name": "stdout",
     "output_type": "stream",
     "text": [
      "\n",
      "Sample (original vs cleaned):\n",
      "                                              review  \\\n",
      "0  One of the other reviewers has mentioned that ...   \n",
      "1  A wonderful little production. <br /><br />The...   \n",
      "2  I thought this was a wonderful way to spend ti...   \n",
      "3  Basically there's a family where a little boy ...   \n",
      "4  Petter Mattei's \"Love in the Time of Money\" is...   \n",
      "\n",
      "                                      cleaned_review  \n",
      "0  one reviewers mentioned watching oz episode ho...  \n",
      "1  wonderful little production br br filming tech...  \n",
      "2  thought wonderful way spend time hot summer we...  \n",
      "3  basically family little boy jake thinks zombie...  \n",
      "4  petter mattei love time money visually stunnin...  \n",
      "\n",
      "Label distribution after encoding:\n",
      "sentiment\n",
      "1    24884\n",
      "0    24698\n",
      "Name: count, dtype: int64\n",
      "\n",
      "✅ Done: df now has 'cleaned_review' and binary-encoded target.\n"
     ]
    }
   ],
   "source": [
    "# 4.5 — Quick sanity checks\n",
    "print(\"\\nSample (original vs cleaned):\")\n",
    "print(df[[text_col, 'cleaned_review']].head(5))\n",
    "\n",
    "print(\"\\nLabel distribution after encoding:\")\n",
    "print(df[label_col].value_counts())\n",
    "\n",
    "print(\"\\n✅ Done: df now has 'cleaned_review' and binary-encoded target.\")"
   ]
  },
  {
   "cell_type": "code",
   "execution_count": 26,
   "id": "675ae226-3ad6-479d-b885-26fb2069a510",
   "metadata": {},
   "outputs": [
    {
     "name": "stderr",
     "output_type": "stream",
     "text": [
      "[nltk_data] Downloading package wordnet to\n",
      "[nltk_data]     C:\\Users\\DELL\\AppData\\Roaming\\nltk_data...\n",
      "[nltk_data]   Package wordnet is already up-to-date!\n",
      "[nltk_data] Downloading package omw-1.4 to\n",
      "[nltk_data]     C:\\Users\\DELL\\AppData\\Roaming\\nltk_data...\n"
     ]
    },
    {
     "name": "stdout",
     "output_type": "stream",
     "text": [
      "\n",
      "Sample comparison of preprocessing steps:\n",
      "                                      cleaned_review  \\\n",
      "0  one reviewers mentioned watching oz episode ho...   \n",
      "1  wonderful little production br br filming tech...   \n",
      "2  thought wonderful way spend time hot summer we...   \n",
      "3  basically family little boy jake thinks zombie...   \n",
      "4  petter mattei love time money visually stunnin...   \n",
      "\n",
      "                                   lemmatized_review  \n",
      "0  one reviewer mentioned watching oz episode hoo...  \n",
      "1  wonderful little production br br filming tech...  \n",
      "2  thought wonderful way spend time hot summer we...  \n",
      "3  basically family little boy jake think zombie ...  \n",
      "4  petter mattei love time money visually stunnin...  \n"
     ]
    }
   ],
   "source": [
    "# Make sure you have wordnet downloaded for lemmatization\n",
    "try:\n",
    "    nltk.data.find('corpora/wordnet')\n",
    "except LookupError:\n",
    "    nltk.download('wordnet')\n",
    "    nltk.download('omw-1.4')\n",
    "\n",
    "# Initialize stemmer and lemmatizer\n",
    "lemmatizer = WordNetLemmatizer()\n",
    "# Apply Lemmatization ---\n",
    "def lemmatize_text(text):\n",
    "    return \" \".join([lemmatizer.lemmatize(word) for word in text.split()])\n",
    "\n",
    "# Create new columns with stemmed/lemmatized versions\n",
    "df['lemmatized_review'] = df['cleaned_review'].apply(lemmatize_text)\n",
    "\n",
    "# Show comparison\n",
    "print(\"\\nSample comparison of preprocessing steps:\")\n",
    "print(df[['cleaned_review', 'lemmatized_review']].head())"
   ]
  },
  {
   "cell_type": "markdown",
   "id": "36c5d69e-3bd0-4154-b30d-b33c99d6d7f6",
   "metadata": {},
   "source": [
    "# ===== Step 5: Splitting Data ====="
   ]
  },
  {
   "cell_type": "code",
   "execution_count": 28,
   "id": "2295165f-adb5-482c-a0dc-9c604d55292b",
   "metadata": {},
   "outputs": [
    {
     "name": "stdout",
     "output_type": "stream",
     "text": [
      "Training set size: 39665\n",
      "Testing set size: 9917\n"
     ]
    }
   ],
   "source": [
    "# Use the lemmatized version for modeling (you can also try stemmed or cleaned)\n",
    "X = df['lemmatized_review']   # Features (text data)\n",
    "y = df['sentiment']           # Target (1 = positive, 0 = negative)\n",
    "\n",
    "# Split data: 80% train, 20% test\n",
    "X_train, X_test, y_train, y_test = train_test_split(\n",
    "    X, y, test_size=0.2, random_state=42, stratify=y\n",
    ")\n",
    "\n",
    "print(\"Training set size:\", X_train.shape[0])\n",
    "print(\"Testing set size:\", X_test.shape[0])"
   ]
  },
  {
   "cell_type": "markdown",
   "id": "11f73b0a-691e-4f01-9c6c-dd8da8585fc7",
   "metadata": {},
   "source": [
    "# ===== Step 6: Text Vectorization ====="
   ]
  },
  {
   "cell_type": "code",
   "execution_count": 29,
   "id": "7bd237cd-1736-43ad-bd2f-9612b6c0b895",
   "metadata": {},
   "outputs": [
    {
     "name": "stdout",
     "output_type": "stream",
     "text": [
      "TF-IDF Train Shape: (39665, 5000)\n",
      "TF-IDF Test Shape: (9917, 5000)\n"
     ]
    }
   ],
   "source": [
    "# Initialize TF-IDF Vectorizer\n",
    "tfidf = TfidfVectorizer(max_features=5000)\n",
    "\n",
    "# Fit on training data and transform both train & test sets\n",
    "X_train_tfidf = tfidf.fit_transform(X_train)\n",
    "X_test_tfidf = tfidf.transform(X_test)\n",
    "\n",
    "print(\"TF-IDF Train Shape:\", X_train_tfidf.shape)\n",
    "print(\"TF-IDF Test Shape:\", X_test_tfidf.shape)"
   ]
  },
  {
   "cell_type": "markdown",
   "id": "494b7f93-cc17-4d2d-ae9a-4131971ea5a6",
   "metadata": {},
   "source": [
    "# ===== Step 7: Model Training ====="
   ]
  },
  {
   "cell_type": "code",
   "execution_count": 30,
   "id": "d55e8f98-3009-4847-9d2d-f48f88be2870",
   "metadata": {},
   "outputs": [
    {
     "name": "stdout",
     "output_type": "stream",
     "text": [
      "✅ Multinomial Naive Bayes model trained successfully!\n"
     ]
    }
   ],
   "source": [
    "# Initialize the model\n",
    "nb_model = MultinomialNB()\n",
    "\n",
    "# Train (fit) the model on the training data\n",
    "nb_model.fit(X_train_tfidf, y_train)\n",
    "\n",
    "print(\"✅ Multinomial Naive Bayes model trained successfully!\")"
   ]
  },
  {
   "cell_type": "markdown",
   "id": "52a5863a-869a-4d2c-8826-094a0802024c",
   "metadata": {},
   "source": [
    "# ===== Step 8: Model Evaluation ====="
   ]
  },
  {
   "cell_type": "code",
   "execution_count": 31,
   "id": "bf888cfa-d39c-4fcd-8007-1f02d789782d",
   "metadata": {},
   "outputs": [
    {
     "name": "stdout",
     "output_type": "stream",
     "text": [
      "📊 Model Evaluation Results:\n",
      "✅ Accuracy:  0.8551\n",
      "🎯 Precision: 0.8495\n",
      "🔄 Recall:    0.8644\n",
      "⚖️  F1-Score:  0.8569\n",
      "\n",
      "📄 Classification Report:\n",
      "              precision    recall  f1-score   support\n",
      "\n",
      "    Negative       0.86      0.85      0.85      4940\n",
      "    Positive       0.85      0.86      0.86      4977\n",
      "\n",
      "    accuracy                           0.86      9917\n",
      "   macro avg       0.86      0.86      0.86      9917\n",
      "weighted avg       0.86      0.86      0.86      9917\n",
      "\n"
     ]
    }
   ],
   "source": [
    "#  Make predictions on the test set\n",
    "y_pred = nb_model.predict(X_test_tfidf)\n",
    "\n",
    "#  Calculate metrics\n",
    "accuracy = accuracy_score(y_test, y_pred)\n",
    "precision = precision_score(y_test, y_pred)\n",
    "recall = recall_score(y_test, y_pred)\n",
    "f1 = f1_score(y_test, y_pred)\n",
    "\n",
    "print(\"📊 Model Evaluation Results:\")\n",
    "print(f\"✅ Accuracy:  {accuracy:.4f}\")\n",
    "print(f\"🎯 Precision: {precision:.4f}\")\n",
    "print(f\"🔄 Recall:    {recall:.4f}\")\n",
    "print(f\"⚖️  F1-Score:  {f1:.4f}\")\n",
    "\n",
    "#  Full classification report\n",
    "print(\"\\n📄 Classification Report:\")\n",
    "print(classification_report(y_test, y_pred, target_names=[\"Negative\", \"Positive\"]))"
   ]
  },
  {
   "cell_type": "markdown",
   "id": "6197148d-8de1-49c9-8b68-9555af190159",
   "metadata": {},
   "source": [
    "# ===== Step 9: Confusion Matrix ====="
   ]
  },
  {
   "cell_type": "code",
   "execution_count": 32,
   "id": "5a1cdfaf-15d3-428e-a32f-ad65aa6d3bd0",
   "metadata": {},
   "outputs": [
    {
     "data": {
      "image/png": "[encoded data removed]",
      "text/plain": [
       "<Figure size 600x400 with 2 Axes>"
      ]
     },
     "metadata": {},
     "output_type": "display_data"
    }
   ],
   "source": [
    "#  Confusion Matrix\n",
    "cm = confusion_matrix(y_test, y_pred)\n",
    "\n",
    "plt.figure(figsize=(6,4))\n",
    "sns.heatmap(cm, annot=True, fmt=\"d\", cmap=\"Blues\", xticklabels=[\"Negative\", \"Positive\"], yticklabels=[\"Negative\", \"Positive\"])\n",
    "plt.xlabel(\"Predicted\")\n",
    "plt.ylabel(\"Actual\")\n",
    "plt.title(\"Confusion Matrix - Naive Bayes\")\n",
    "plt.show()"
   ]
  },
  {
   "cell_type": "markdown",
   "id": "15b49295-3048-4894-bf49-176f1ef30b91",
   "metadata": {},
   "source": [
    "# ===== Step 10: ROC Curve ====="
   ]
  },
  {
   "cell_type": "code",
   "execution_count": 35,
   "id": "d019e6cd-e5f9-4bee-8536-01f4010bc2f7",
   "metadata": {},
   "outputs": [
    {
     "data": {
      "image/png": "[encoded data removed]",
      "text/plain": [
       "<Figure size 800x600 with 1 Axes>"
      ]
     },
     "metadata": {},
     "output_type": "display_data"
    }
   ],
   "source": [
    "# --- ROC Curve ---\n",
    "plt.figure(figsize=(8,6))\n",
    "\n",
    "# Get predicted probabilities (only class=1 \"Positive\")\n",
    "y_score = nb_model.predict_proba(X_test_tfidf)[:, 1]\n",
    "\n",
    "# Compute ROC curve and AUC\n",
    "fpr, tpr, _ = roc_curve(y_test, y_score)\n",
    "roc_auc = auc(fpr, tpr)\n",
    "\n",
    "plt.plot(fpr, tpr, label=f\"Naive Bayes (AUC = {roc_auc:.2f})\")\n",
    "plt.plot([0,1], [0,1], 'k--')  # diagonal line (random guess)\n",
    "\n",
    "plt.xlabel(\"False Positive Rate\")\n",
    "plt.ylabel(\"True Positive Rate\")\n",
    "plt.title(\"ROC Curve - Naive Bayes\")\n",
    "plt.legend(loc=\"lower right\")\n",
    "plt.grid(True)\n",
    "plt.show()"
   ]
  },
  {
   "cell_type": "markdown",
   "id": "c3ebfde7-c1e4-48c3-b878-3ec81ed6465c",
   "metadata": {},
   "source": [
    "# ===== Step 11: Precision-Recall Curve ====="
   ]
  },
  {
   "cell_type": "code",
   "execution_count": 36,
   "id": "66cbd900-bd21-4ae0-9e00-f372b75363e4",
   "metadata": {},
   "outputs": [
    {
     "data": {
      "image/png": "[encoded data removed]",
      "text/plain": [
       "<Figure size 800x600 with 1 Axes>"
      ]
     },
     "metadata": {},
     "output_type": "display_data"
    }
   ],
   "source": [
    "# --- Precision-Recall Curve ---\n",
    "plt.figure(figsize=(8,6))\n",
    "\n",
    "precision, recall, _ = precision_recall_curve(y_test, y_score)\n",
    "ap = average_precision_score(y_test, y_score)\n",
    "\n",
    "plt.plot(recall, precision, label=f\"Naive Bayes (AP = {ap:.2f})\")\n",
    "\n",
    "plt.xlabel(\"Recall\")\n",
    "plt.ylabel(\"Precision\")\n",
    "plt.title(\"Precision-Recall Curve - Naive Bayes\")\n",
    "plt.legend(loc=\"lower left\")\n",
    "plt.grid(True)\n",
    "plt.show()"
   ]
  },
  {
   "cell_type": "markdown",
   "id": "5a2b4d4c-0442-4c0a-8a0b-c30bb7d4b39e",
   "metadata": {},
   "source": [
    "# ===== Step 12: Identify Important Words ====="
   ]
  },
  {
   "cell_type": "code",
   "execution_count": 37,
   "id": "3eec853c-2f53-489d-bfae-53266e187f63",
   "metadata": {},
   "outputs": [
    {
     "name": "stdout",
     "output_type": "stream",
     "text": [
      "🔹 Top 20 Words Indicating Negative Sentiment:\n",
      "couples (-6.06)\n",
      "action (-6.04)\n",
      "segments (-6.04)\n",
      "plight (-6.03)\n",
      "strikes (-6.01)\n",
      "scott (-5.99)\n",
      "gere (-5.91)\n",
      "manage (-5.91)\n",
      "reason (-5.88)\n",
      "channels (-5.84)\n",
      "title (-5.83)\n",
      "worse (-5.81)\n",
      "going (-5.79)\n",
      "every (-5.75)\n",
      "link (-5.53)\n",
      "background (-5.52)\n",
      "okay (-5.47)\n",
      "figures (-5.01)\n",
      "moved (-4.68)\n",
      "brad (-4.22)\n",
      "\n",
      "🔹 Top 20 Words Indicating Positive Sentiment:\n",
      "manage (-6.09)\n",
      "gere (-6.09)\n",
      "besides (-6.06)\n",
      "lily (-6.05)\n",
      "alongside (-6.04)\n",
      "reason (-6.00)\n",
      "silly (-5.97)\n",
      "lowest (-5.96)\n",
      "channels (-5.88)\n",
      "welles (-5.87)\n",
      "segments (-5.86)\n",
      "title (-5.78)\n",
      "strikes (-5.78)\n",
      "link (-5.75)\n",
      "going (-5.75)\n",
      "gratuitous (-5.67)\n",
      "okay (-5.46)\n",
      "figures (-4.91)\n",
      "moved (-4.91)\n",
      "brad (-4.31)\n"
     ]
    }
   ],
   "source": [
    "# Redefine the TF-IDF vectorizer (from Step 6)\n",
    "from sklearn.feature_extraction.text import TfidfVectorizer\n",
    "\n",
    "vectorizer = TfidfVectorizer(max_features=5000)\n",
    "X_tfidf = vectorizer.fit_transform(df['cleaned_review'])  # use your cleaned text column\n",
    "\n",
    "#  Get feature names\n",
    "feature_names = vectorizer.get_feature_names_out()\n",
    "\n",
    "#  Get log probabilities from Naive Bayes model\n",
    "word_probs = nb_model.feature_log_prob_\n",
    "\n",
    "# Separate words contributing to negative (class 0) and positive (class 1)\n",
    "top_neg_indices = np.argsort(word_probs[0])[-20:]\n",
    "top_pos_indices = np.argsort(word_probs[1])[-20:]\n",
    "\n",
    "print(\"🔹 Top 20 Words Indicating Negative Sentiment:\")\n",
    "for idx in top_neg_indices:\n",
    "    print(f\"{feature_names[idx]} ({word_probs[0][idx]:.2f})\")\n",
    "\n",
    "print(\"\\n🔹 Top 20 Words Indicating Positive Sentiment:\")\n",
    "for idx in top_pos_indices:\n",
    "    print(f\"{feature_names[idx]} ({word_probs[1][idx]:.2f})\")"
   ]
  },
  {
   "cell_type": "code",
   "execution_count": 38,
   "id": "721e3caa-9571-4f0e-a206-9e0d59d73160",
   "metadata": {},
   "outputs": [
    {
     "data": {
      "image/png": "[encoded data removed]",
      "text/plain": [
       "<Figure size 1200x500 with 1 Axes>"
      ]
     },
     "metadata": {},
     "output_type": "display_data"
    },
    {
     "data": {
      "image/png": "[encoded data removed]",
      "text/plain": [
       "<Figure size 1200x500 with 1 Axes>"
      ]
     },
     "metadata": {},
     "output_type": "display_data"
    }
   ],
   "source": [
    "#  Visualization (optional): Bar plots for top words\n",
    "plt.figure(figsize=(12, 5))\n",
    "\n",
    "# Negative words\n",
    "neg_words = [feature_names[i] for i in top_neg_indices]\n",
    "neg_scores = [word_probs[0][i] for i in top_neg_indices]\n",
    "sns.barplot(x=neg_scores, y=neg_words, color=\"red\")\n",
    "plt.title(\"Top Negative Sentiment Words (Naive Bayes)\")\n",
    "plt.xlabel(\"Log Probability\")\n",
    "plt.ylabel(\"Words\")\n",
    "plt.show()\n",
    "\n",
    "# Positive words\n",
    "plt.figure(figsize=(12, 5))\n",
    "pos_words = [feature_names[i] for i in top_pos_indices]\n",
    "pos_scores = [word_probs[1][i] for i in top_pos_indices]\n",
    "sns.barplot(x=pos_scores, y=pos_words, color=\"green\")\n",
    "plt.title(\"Top Positive Sentiment Words (Naive Bayes)\")\n",
    "plt.xlabel(\"Log Probability\")\n",
    "plt.ylabel(\"Words\")\n",
    "plt.show()"
   ]
  },
  {
   "cell_type": "markdown",
   "id": "c65b1fcd-8cad-4f60-8cb1-e9188f6b117b",
   "metadata": {},
   "source": [
    "# Step 10: Save Model and Vectorizer"
   ]
  },
  {
   "cell_type": "code",
   "execution_count": 39,
   "id": "711e5f6b-cc9e-4fb1-a273-e3bcd642c863",
   "metadata": {},
   "outputs": [
    {
     "name": "stdout",
     "output_type": "stream",
     "text": [
      "✅ Model and Vectorizer saved successfully!\n"
     ]
    }
   ],
   "source": [
    "import pickle\n",
    "\n",
    "# ✅ Save the trained Naive Bayes model\n",
    "with open(\"sentiment_nb_model.pkl\", \"wb\") as model_file:\n",
    "    pickle.dump(nb_model, model_file)\n",
    "\n",
    "# ✅ Save the TF-IDF vectorizer\n",
    "with open(\"tfidf_vectorizer.pkl\", \"wb\") as vec_file:\n",
    "    pickle.dump(vectorizer, vec_file)\n",
    "\n",
    "print(\"✅ Model and Vectorizer saved successfully!\")"
   ]
  },
  {
   "cell_type": "code",
   "execution_count": 40,
   "id": "65ba95b3-0680-4e94-8c06-6b09e2ef006a",
   "metadata": {},
   "outputs": [
    {
     "name": "stdout",
     "output_type": "stream",
     "text": [
      "✅ Model and Vectorizer loaded successfully!\n"
     ]
    }
   ],
   "source": [
    "# Load the saved model\n",
    "with open(\"sentiment_nb_model.pkl\", \"rb\") as model_file:\n",
    "    loaded_model = pickle.load(model_file)\n",
    "\n",
    "# Load the saved vectorizer\n",
    "with open(\"tfidf_vectorizer.pkl\", \"rb\") as vec_file:\n",
    "    loaded_vectorizer = pickle.load(vec_file)\n",
    "\n",
    "print(\"✅ Model and Vectorizer loaded successfully!\")"
   ]
  },
  {
   "cell_type": "markdown",
   "id": "5809761c-3edb-4621-a37c-fe4101fdaba8",
   "metadata": {},
   "source": [
    "# ===== Model Testing ====="
   ]
  },
  {
   "cell_type": "code",
   "execution_count": 41,
   "id": "6bcfaf13-1461-48e9-ad9c-fca11db96ac5",
   "metadata": {},
   "outputs": [
    {
     "name": "stdout",
     "output_type": "stream",
     "text": [
      "Review: The movie was absolutely fantastic with brilliant acting!\n",
      "Prediction: 👎 Negative Review\n"
     ]
    }
   ],
   "source": [
    "import re\n",
    "import pickle\n",
    "\n",
    "# ---------------- Load Model and Vectorizer ----------------\n",
    "with open(\"sentiment_nb_model.pkl\", \"rb\") as model_file:\n",
    "    loaded_model = pickle.load(model_file)\n",
    "\n",
    "with open(\"tfidf_vectorizer.pkl\", \"rb\") as vec_file:\n",
    "    loaded_vectorizer = pickle.load(vec_file)\n",
    "\n",
    "# ---------------- Preprocess Function ----------------\n",
    "def preprocess_review(text):\n",
    "    text = text.lower()\n",
    "    text = re.sub(r'[^a-z\\s]', '', text)  # keep only letters & spaces\n",
    "    return text\n",
    "\n",
    "# ---------------- Test Function ----------------\n",
    "def predict_sentiment(review):\n",
    "    cleaned = preprocess_review(review)\n",
    "    X_new = loaded_vectorizer.transform([cleaned])  # convert to vector\n",
    "    prediction = loaded_model.predict(X_new)[0]     # get prediction\n",
    "    \n",
    "    if prediction == 1:\n",
    "        return \"👍 Positive Review\"\n",
    "    else:\n",
    "        return \"👎 Negative Review\"\n",
    "\n",
    "# ---------------- Example Test ----------------\n",
    "test_review = \"The movie was absolutely fantastic with brilliant acting!\"\n",
    "print(\"Review:\", test_review)\n",
    "print(\"Prediction:\", predict_sentiment(test_review))"
   ]
  },
  {
   "cell_type": "code",
   "execution_count": null,
   "id": "90825ee2-2df3-41cd-9c52-14d340d6a7e1",
   "metadata": {},
   "outputs": [],
   "source": []
  }
 ],
 "metadata": {
  "kernelspec": {
   "display_name": "Python 3 (ipykernel)",
   "language": "python",
   "name": "python3"
  },
  "language_info": {
   "codemirror_mode": {
    "name": "ipython",
    "version": 3
   },
   "file_extension": ".py",
   "mimetype": "text/x-python",
   "name": "python",
   "nbconvert_exporter": "python",
   "pygments_lexer": "ipython3",
   "version": "3.12.7"
  }
 },
 "nbformat": 4,
 "nbformat_minor": 5
}
